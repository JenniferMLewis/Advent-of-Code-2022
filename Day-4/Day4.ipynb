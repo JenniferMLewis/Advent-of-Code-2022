{
 "cells": [
  {
   "cell_type": "code",
   "execution_count": 72,
   "metadata": {},
   "outputs": [],
   "source": [
    "import pandas as pd\n",
    "import numpy as np"
   ]
  },
  {
   "cell_type": "markdown",
   "metadata": {},
   "source": [
    "--- Day 4: Camp Cleanup ---<br>\n",
    "Space needs to be cleared before the last supplies can be unloaded from the ships, and so several Elves have been assigned the job of cleaning up sections of the camp. Every section has a unique ID number, and each Elf is assigned a range of section IDs.\n",
    "\n",
    "However, as some of the Elves compare their section assignments with each other, they've noticed that many of the assignments overlap. To try to quickly find overlaps and reduce duplicated effort, the Elves pair up and make a big list of the section assignments for each pair (your puzzle input).\n",
    "\n",
    "Some of the pairs have noticed that one of their assignments fully contains the other. For example, 2-8 fully contains 3-7, and 6-6 is fully contained by 4-6. In pairs where one assignment fully contains the other, one Elf in the pair would be exclusively cleaning sections their partner will already be cleaning, so these seem like the most in need of reconsideration. In this example, there are 2 such pairs.\n",
    "\n",
    ">In how many assignment pairs does one range fully contain the other?"
   ]
  },
  {
   "cell_type": "code",
   "execution_count": 73,
   "metadata": {},
   "outputs": [],
   "source": [
    "with open('input.txt') as f:\n",
    "    lines = f.readlines()"
   ]
  },
  {
   "cell_type": "code",
   "execution_count": 74,
   "metadata": {},
   "outputs": [
    {
     "data": {
      "text/plain": [
       "array([3, 4, 5])"
      ]
     },
     "execution_count": 74,
     "metadata": {},
     "output_type": "execute_result"
    }
   ],
   "source": [
    "np.arange(3,5+1,1,int)"
   ]
  },
  {
   "cell_type": "code",
   "execution_count": 75,
   "metadata": {},
   "outputs": [],
   "source": [
    "def clean_elves(elf):\n",
    "    '''\n",
    "    Takes in each line/pair of elves.\n",
    "    Strips whitespace because they love to trip us up with whitespace\n",
    "    Splits them on , into elf 1 and elf 2 of the pair.\n",
    "    Splits each elf to their start and stop number, turns those numbers into actual int numbers for later functions\n",
    "    RETURNS elf1's clean start and stop as an int in a list, and elf2's clean start and stop as an int in a list\n",
    "    '''\n",
    "    elf = elf.strip()\n",
    "    elf_list = elf.split(',')\n",
    "    elf1 = elf_list[0]\n",
    "    elf2 = elf_list[1]\n",
    "    clean_elf1_1, clean_elf1_2 = elf1.split(\"-\")\n",
    "    clean_elf2_1, clean_elf2_2 = elf2.split(\"-\")\n",
    "    clean_elf1 = [int(clean_elf1_1), int(clean_elf1_2)]\n",
    "    clean_elf2 = [int(clean_elf2_1), int(clean_elf2_2)]\n",
    "    return clean_elf1, clean_elf2"
   ]
  },
  {
   "cell_type": "code",
   "execution_count": 76,
   "metadata": {},
   "outputs": [],
   "source": [
    "def job_range(elf1, elf2):\n",
    "    '''\n",
    "    Takes in clean elf1 and elf2 created by the clean_elves function,\n",
    "    Grabs the clean start of each elf's range and the clean stop of each elf's range (and adds 1 to the stop because of how ranges work, otherwise it would stop before hitting the last number)\n",
    "    Runs The Start and Stop of each Elf through np.arange, at a single step, int dtype, to give us each cleaning section in the range of both elves.\n",
    "    RETURNS Elf1's fully enumerated work area range, and Elf2's fully enumerated work area range.\n",
    "    '''\n",
    "    start1 = elf1[0]\n",
    "    stop1 = elf1[1]+1\n",
    "    start2 = elf2[0]\n",
    "    stop2 = elf2[1]+1\n",
    "    return list(np.arange(start1, stop1,1,int)), list(np.arange(start2, stop2, 1, int))"
   ]
  },
  {
   "cell_type": "code",
   "execution_count": 77,
   "metadata": {},
   "outputs": [],
   "source": [
    "def pair_jobs(elves):\n",
    "    '''\n",
    "    For cleaner, more automated coding.\n",
    "    Takes in the elf pair (found in each line in input.txt),\n",
    "    Runs the pair through clean_elves custom function, returning elf1 and elf2 cleaned and in int form\n",
    "    Runs the returned cleaned elves through the job_range custom function.\n",
    "    RETURNS Elf1 and Elf2 of the pair, fully cleaned, turned into int datatype, and the range of their work assignment fully enumerated as individual lists.\n",
    "\n",
    "    '''\n",
    "    elf1, elf2 = clean_elves(elves)\n",
    "    return job_range(elf1, elf2)"
   ]
  },
  {
   "cell_type": "code",
   "execution_count": 78,
   "metadata": {},
   "outputs": [
    {
     "data": {
      "text/plain": [
       "([28, 29, 30, 31, 32], [10, 11, 12, 13, 14])"
      ]
     },
     "execution_count": 78,
     "metadata": {},
     "output_type": "execute_result"
    }
   ],
   "source": [
    "pair_jobs(\"28-32,10-14\")"
   ]
  },
  {
   "cell_type": "markdown",
   "metadata": {},
   "source": [
    "Cleaning Functions created for less headache later (hopefully)\n",
    "\n",
    "---"
   ]
  },
  {
   "cell_type": "code",
   "execution_count": 79,
   "metadata": {},
   "outputs": [],
   "source": [
    "# The function also cleans the whitespace, but it makes me happy to be double sure it's cleaned of all whitespace and put into a nice list.\n",
    "clean_groups = []\n",
    "for line in lines:\n",
    "    clean_groups.append(line.strip())\n",
    "\n",
    "# this area could just be combined with below with:\n",
    "# for line in lines:\n",
    "    # elf1, elf2 = pair_jobs(line)\n",
    "# and that would cut out this whole area as it does strip once it's in the function. For those who aren't as neurotic as I am."
   ]
  },
  {
   "cell_type": "code",
   "execution_count": 80,
   "metadata": {},
   "outputs": [],
   "source": [
    "enumerated_groups_elf_1 = []\n",
    "enumerated_groups_elf_2 = []\n",
    "for group in clean_groups:\n",
    "    elf1, elf2 = pair_jobs(group)\n",
    "    enumerated_groups_elf_1.append(elf1)\n",
    "    enumerated_groups_elf_2.append(elf2)"
   ]
  },
  {
   "cell_type": "code",
   "execution_count": 82,
   "metadata": {},
   "outputs": [],
   "source": [
    "first_elf = pd.Series(enumerated_groups_elf_1)\n",
    "second_elf = pd.Series(enumerated_groups_elf_2)"
   ]
  },
  {
   "cell_type": "code",
   "execution_count": 98,
   "metadata": {},
   "outputs": [
    {
     "name": "stdout",
     "output_type": "stream",
     "text": [
      "Full Overlap\n"
     ]
    }
   ],
   "source": [
    "# Checking and Testing Logic on entry that is known to have one elf fully contained in another\n",
    "elf1 = first_elf[1]\n",
    "elf2 = second_elf[1]\n",
    "elf1_in_2 = all(area in elf1 for area in elf2)\n",
    "elf2_in_1 = all(area in elf2 for area in elf1)\n",
    "if elf1_in_2 == True or elf2_in_1 == True:\n",
    "    print(\"Full Overlap\")"
   ]
  },
  {
   "cell_type": "code",
   "execution_count": 101,
   "metadata": {},
   "outputs": [
    {
     "name": "stdout",
     "output_type": "stream",
     "text": [
      "Partial to No Overlap\n"
     ]
    }
   ],
   "source": [
    "# testing one with only some overlap\n",
    "elf1 = first_elf[0]\n",
    "elf2 = second_elf[0]\n",
    "elf1_in_2 = all(area in elf1 for area in elf2)\n",
    "elf2_in_1 = all(area in elf2 for area in elf1)\n",
    "if elf1_in_2 == True or elf2_in_1 == True:\n",
    "    print(\"Full Overlap\")\n",
    "else:\n",
    "    print(\"Partial to No Overlap\")"
   ]
  },
  {
   "cell_type": "code",
   "execution_count": 102,
   "metadata": {},
   "outputs": [
    {
     "name": "stdout",
     "output_type": "stream",
     "text": [
      "Full Overlap\n"
     ]
    }
   ],
   "source": [
    "# I'm paranoid, checking that it doesn't have to start at the same number. \n",
    "# This pair one is contained in the other but it starts a few numbers in and ends a number or two from the end.\n",
    "# Let's see how it does\n",
    "elf1 = first_elf[13]\n",
    "elf2 = second_elf[13]\n",
    "elf1_in_2 = all(area in elf1 for area in elf2)\n",
    "elf2_in_1 = all(area in elf2 for area in elf1)\n",
    "if elf1_in_2 == True or elf2_in_1 == True:\n",
    "    print(\"Full Overlap\")\n",
    "else:\n",
    "    print(\"Partial to No Overlap\")"
   ]
  },
  {
   "cell_type": "markdown",
   "metadata": {},
   "source": [
    "Good good. This logic does what I want, it will look for all of one of the elves inside the other elf's area, regardless of where in the list it might be, I don't have to worry about order, as they're all numerically ordered so they won't be sorted randomly."
   ]
  },
  {
   "cell_type": "code",
   "execution_count": 112,
   "metadata": {},
   "outputs": [],
   "source": [
    "total_overlap = 0\n",
    "for i, elf in enumerate(first_elf):\n",
    "    elf2 = second_elf[i]\n",
    "    elf1_in_2 = all(area in elf for area in elf2)\n",
    "    elf2_in_1 = all(area in elf2 for area in elf)\n",
    "    if elf1_in_2 == True or elf2_in_1 == True:\n",
    "        total_overlap = total_overlap+1"
   ]
  },
  {
   "cell_type": "code",
   "execution_count": 113,
   "metadata": {},
   "outputs": [
    {
     "data": {
      "text/plain": [
       "477"
      ]
     },
     "execution_count": 113,
     "metadata": {},
     "output_type": "execute_result"
    }
   ],
   "source": [
    "total_overlap"
   ]
  },
  {
   "cell_type": "markdown",
   "metadata": {},
   "source": [
    "------"
   ]
  },
  {
   "cell_type": "markdown",
   "metadata": {},
   "source": [
    "--- Part Two ---<br>\n",
    "It seems like there is still quite a bit of duplicate work planned. Instead, the Elves would like to know the number of pairs that overlap at all.\n",
    "\n",
    "In the above example, the first two pairs (2-4,6-8 and 2-3,4-5) don't overlap, while the remaining four pairs (5-7,7-9, 2-8,3-7, 6-6,4-6, and 2-6,4-8) do overlap:\n",
    "\n",
    "5-7,7-9 overlaps in a single section, 7.\n",
    "2-8,3-7 overlaps all of the sections 3 through 7.\n",
    "6-6,4-6 overlaps in a single section, 6.\n",
    "2-6,4-8 overlaps in sections 4, 5, and 6.\n",
    "So, in this example, the number of overlapping assignment pairs is 4.\n",
    "\n",
    "In how many assignment pairs do the ranges overlap?"
   ]
  },
  {
   "cell_type": "code",
   "execution_count": 116,
   "metadata": {},
   "outputs": [],
   "source": [
    "partial_overlap = 0\n",
    "for i, elf in enumerate(first_elf):\n",
    "    elf2 = second_elf[i]\n",
    "    elf1_in_2 = any(area in elf for area in elf2)\n",
    "    elf2_in_1 = any(area in elf2 for area in elf)\n",
    "    if elf1_in_2 == True or elf2_in_1 == True:\n",
    "        partial_overlap = partial_overlap+1"
   ]
  },
  {
   "cell_type": "code",
   "execution_count": 117,
   "metadata": {},
   "outputs": [
    {
     "data": {
      "text/plain": [
       "830"
      ]
     },
     "execution_count": 117,
     "metadata": {},
     "output_type": "execute_result"
    }
   ],
   "source": [
    "partial_overlap"
   ]
  }
 ],
 "metadata": {
  "kernelspec": {
   "display_name": "Python 3.9.12 ('base')",
   "language": "python",
   "name": "python3"
  },
  "language_info": {
   "codemirror_mode": {
    "name": "ipython",
    "version": 3
   },
   "file_extension": ".py",
   "mimetype": "text/x-python",
   "name": "python",
   "nbconvert_exporter": "python",
   "pygments_lexer": "ipython3",
   "version": "3.9.12"
  },
  "orig_nbformat": 4,
  "vscode": {
   "interpreter": {
    "hash": "3067ead486e059ec00ffe7555bdb889e6e264a24dc711bf108106cc7baee8d5d"
   }
  }
 },
 "nbformat": 4,
 "nbformat_minor": 2
}
