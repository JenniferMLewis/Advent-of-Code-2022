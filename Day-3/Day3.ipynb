{
 "cells": [
  {
   "cell_type": "code",
   "execution_count": 1,
   "metadata": {},
   "outputs": [],
   "source": [
    "import pandas as pd"
   ]
  },
  {
   "cell_type": "markdown",
   "metadata": {},
   "source": [
    "--- Day 3: Rucksack Reorganization ---<br>\n",
    "One Elf has the important job of loading all of the rucksacks with supplies for the jungle journey. Unfortunately, that Elf didn't quite follow the packing instructions, and so a few items now need to be rearranged.\n",
    "\n",
    "Each rucksack has two large compartments. All items of a given type are meant to go into exactly one of the two compartments. The Elf that did the packing failed to follow this rule for exactly one item type per rucksack.\n",
    "\n",
    "The Elves have made a list of all of the items currently in each rucksack (your puzzle input), but they need your help finding the errors. Every item type is identified by a single lowercase or uppercase letter (that is, a and A refer to different types of items).\n",
    "\n",
    "The list of items for each rucksack is given as characters all on a single line. A given rucksack always has the same number of items in each of its two compartments, so the first half of the characters represent items in the first compartment, while the second half of the characters represent items in the second compartment."
   ]
  },
  {
   "cell_type": "markdown",
   "metadata": {},
   "source": [
    "To help prioritize item rearrangement, every item type can be converted to a priority:\n",
    "\n",
    "Lowercase item types a through z have priorities 1 through 26.<br>\n",
    "Uppercase item types A through Z have priorities 27 through 52.<br>\n",
    "In the above example, the priority of the item type that appears in both compartments of each rucksack is 16 (p), 38 (L), 42 (P), 22 (v), 20 (t), and 19 (s); the sum of these is 157.\n",
    "\n",
    "Find the item type that appears in both compartments of each rucksack. What is the sum of the priorities of those item types?"
   ]
  },
  {
   "cell_type": "code",
   "execution_count": 2,
   "metadata": {},
   "outputs": [],
   "source": [
    "# saving these for later, I want to split the backpack in half, then split the characters so I can compare which one is on each side, then return that to a list, so I can compute the value.\n",
    "\n",
    "def char_split(word):\n",
    "    return [letter for letter in word]"
   ]
  },
  {
   "cell_type": "code",
   "execution_count": 3,
   "metadata": {},
   "outputs": [],
   "source": [
    "# test_list = char_split('testwordforsplit')\n",
    "# test_list, test_list[2]"
   ]
  },
  {
   "cell_type": "code",
   "execution_count": 4,
   "metadata": {},
   "outputs": [],
   "source": [
    "with open('input.txt') as f:\n",
    "    lines = f.readlines()"
   ]
  },
  {
   "cell_type": "code",
   "execution_count": 5,
   "metadata": {},
   "outputs": [],
   "source": [
    "backpacks = []\n",
    "for line in lines:\n",
    "    clean_line = line.strip()\n",
    "    backpacks.append(clean_line)"
   ]
  },
  {
   "cell_type": "code",
   "execution_count": 6,
   "metadata": {},
   "outputs": [
    {
     "data": {
      "text/plain": [
       "11.0"
      ]
     },
     "execution_count": 6,
     "metadata": {},
     "output_type": "execute_result"
    }
   ],
   "source": [
    "# below was throwing up an error, so I checked if the number returned was an int or a float, it was a float so that was a quick fix.\n",
    "len(backpacks[1])/2"
   ]
  },
  {
   "cell_type": "code",
   "execution_count": 7,
   "metadata": {},
   "outputs": [],
   "source": [
    "pocket_1 = []\n",
    "pocket_2 = []\n",
    "for backpack in backpacks:\n",
    "    pocket_split = int(len(backpack)/2)\n",
    "    pocket_1.append(backpack[:pocket_split])\n",
    "    pocket_2.append(backpack[pocket_split:])\n"
   ]
  },
  {
   "cell_type": "markdown",
   "metadata": {},
   "source": [
    "Checking that the index splitting is working how I wanted/expected, it is, Yay!"
   ]
  },
  {
   "cell_type": "code",
   "execution_count": 8,
   "metadata": {},
   "outputs": [
    {
     "data": {
      "text/plain": [
       "0                    vGFhvGvvSdfwqhqvmCPnlFPnCNPcCFcWcr\n",
       "1                                ZbWZDMgsTHsrNNLJcJnsJl\n",
       "2                        HbBWQgZVZZBzbgZphwjqpmmVfdGmjG\n",
       "3                  vvCJLGnthChvtrvCCnRbTRqRPRBtbTRfPRRl\n",
       "4                                  djZSgHNNwjqcdWlbcbfc\n",
       "                             ...                       \n",
       "295                  nvBvHpBppnvPPnJTBWLJVMwVfWJfCbfWgW\n",
       "296    hsHHpBsvRTHpsPszTBTTsRTslGqGqlcqlScnqmhZmmZSZSjl\n",
       "297                  DddBHCmfWCBTDBHTHfMpzhzpJJMJsFrGrz\n",
       "298    tPVPmbnttjPnZvSvSbnmZPZPNpNGMpJNzzNrGJpvhsshMpFs\n",
       "299                mwnZcbmmStbVtVjbZVlcLTBlcLCRHRDWCWWW\n",
       "Length: 300, dtype: object"
      ]
     },
     "execution_count": 8,
     "metadata": {},
     "output_type": "execute_result"
    }
   ],
   "source": [
    "pd.Series(backpacks)"
   ]
  },
  {
   "cell_type": "code",
   "execution_count": 9,
   "metadata": {},
   "outputs": [
    {
     "data": {
      "text/plain": [
       "0             vGFhvGvvSdfwqhqvm\n",
       "1                   ZbWZDMgsTHs\n",
       "2               HbBWQgZVZZBzbgZ\n",
       "3            vvCJLGnthChvtrvCCn\n",
       "4                    djZSgHNNwj\n",
       "                 ...           \n",
       "295           nvBvHpBppnvPPnJTB\n",
       "296    hsHHpBsvRTHpsPszTBTTsRTs\n",
       "297           DddBHCmfWCBTDBHTH\n",
       "298    tPVPmbnttjPnZvSvSbnmZPZP\n",
       "299          mwnZcbmmStbVtVjbZV\n",
       "Length: 300, dtype: object"
      ]
     },
     "execution_count": 9,
     "metadata": {},
     "output_type": "execute_result"
    }
   ],
   "source": [
    "pd.Series(pocket_1)"
   ]
  },
  {
   "cell_type": "code",
   "execution_count": 10,
   "metadata": {},
   "outputs": [
    {
     "data": {
      "text/plain": [
       "0             CPnlFPnCNPcCFcWcr\n",
       "1                   rNNLJcJnsJl\n",
       "2               phwjqpmmVfdGmjG\n",
       "3            RbTRqRPRBtbTRfPRRl\n",
       "4                    qcdWlbcbfc\n",
       "                 ...           \n",
       "295           WLJVMwVfWJfCbfWgW\n",
       "296    lGqGqlcqlScnqmhZmmZSZSjl\n",
       "297           fMpzhzpJJMJsFrGrz\n",
       "298    NpNGMpJNzzNrGJpvhsshMpFs\n",
       "299          lcLTBlcLCRHRDWCWWW\n",
       "Length: 300, dtype: object"
      ]
     },
     "execution_count": 10,
     "metadata": {},
     "output_type": "execute_result"
    }
   ],
   "source": [
    "pd.Series(pocket_2)"
   ]
  },
  {
   "cell_type": "code",
   "execution_count": 11,
   "metadata": {},
   "outputs": [],
   "source": [
    "pocket_1 = pd.Series(pocket_1)\n",
    "pocket_2 = pd.Series(pocket_2)"
   ]
  },
  {
   "cell_type": "code",
   "execution_count": 12,
   "metadata": {},
   "outputs": [
    {
     "data": {
      "text/plain": [
       "0             vGFhvGvvSdfwqhqvm\n",
       "1                   ZbWZDMgsTHs\n",
       "2               HbBWQgZVZZBzbgZ\n",
       "3            vvCJLGnthChvtrvCCn\n",
       "4                    djZSgHNNwj\n",
       "                 ...           \n",
       "295           nvBvHpBppnvPPnJTB\n",
       "296    hsHHpBsvRTHpsPszTBTTsRTs\n",
       "297           DddBHCmfWCBTDBHTH\n",
       "298    tPVPmbnttjPnZvSvSbnmZPZP\n",
       "299          mwnZcbmmStbVtVjbZV\n",
       "Length: 300, dtype: object"
      ]
     },
     "execution_count": 12,
     "metadata": {},
     "output_type": "execute_result"
    }
   ],
   "source": [
    "pocket_1"
   ]
  },
  {
   "cell_type": "code",
   "execution_count": 13,
   "metadata": {},
   "outputs": [],
   "source": [
    "both_pockets = []\n",
    "for i, bag in enumerate(pocket_1):\n",
    "    items = set(char_split(bag))\n",
    "    other_pocket_items = set(char_split(pocket_2[i]))\n",
    "    for item in items:\n",
    "        for other_item in other_pocket_items:\n",
    "            if item == other_item:\n",
    "                both_pockets.append(item)\n",
    "\n",
    "# TIL, sets don't allow duplicates, this makes my life a lot easier because I only care about the item, not how many of it is in each pocket of the pack (yet).\n"
   ]
  },
  {
   "cell_type": "code",
   "execution_count": 14,
   "metadata": {},
   "outputs": [
    {
     "data": {
      "text/plain": [
       "array(['F', 's', 'V', 't', 'd', 'M', 'G', 'D', 'g', 'R', 'T', 'j', 'B',\n",
       "       'f', 'Z', 'v', 'n', 'J', 'h', 'w', 'r', 'c', 'l', 'W', 'b', 'S',\n",
       "       'Q', 'H', 'L', 'P', 'N', 'm', 'p', 'z', 'C', 'q'], dtype=object)"
      ]
     },
     "execution_count": 14,
     "metadata": {},
     "output_type": "execute_result"
    }
   ],
   "source": [
    "pd.Series(both_pockets).unique()"
   ]
  },
  {
   "cell_type": "code",
   "execution_count": 15,
   "metadata": {},
   "outputs": [],
   "source": [
    "# There's probably a regex way to automate this, but I'm not sure, so here's the manual way.\n",
    "# Sometimes I'd like to try finding a regex way, or just a more condensed way, and getting ones that are upper to add the 26 themselves. if item = (letter_from_letterlist).upper() add 26 sorta thing.\n",
    "\n",
    "importance = []\n",
    "for item in both_pockets:\n",
    "    if item == 'F':\n",
    "        importance.append(6+26)\n",
    "    elif item == 's':\n",
    "        importance.append(19)\n",
    "    elif item == 'V':\n",
    "        importance.append(22 + 26)\n",
    "    elif item == 't':\n",
    "        importance.append(20)\n",
    "    elif item == 'd':\n",
    "        importance.append(4)\n",
    "    elif item == 'M':\n",
    "        importance.append(13+26)\n",
    "    elif item == 'G':\n",
    "        importance.append(7+26)\n",
    "    if item == 'D':\n",
    "        importance.append(4+26)\n",
    "    if item == 'g':\n",
    "        importance.append(7)\n",
    "    if item == 'R':\n",
    "        importance.append(18+26)\n",
    "    if item == 'T':\n",
    "        importance.append(20+26)\n",
    "    if item == 'j':\n",
    "        importance.append(10)\n",
    "    if item == 'B':\n",
    "        importance.append(2+26)\n",
    "    if item == 'f':\n",
    "        importance.append(6)\n",
    "    if item == 'Z':\n",
    "        importance.append(26+26)\n",
    "    if item == 'v':\n",
    "        importance.append(22)\n",
    "    if item == 'n':\n",
    "        importance.append(14)\n",
    "    if item == 'J':\n",
    "        importance.append(10+26)\n",
    "    if item == 'h':\n",
    "        importance.append(8)\n",
    "    if item == 'w':\n",
    "        importance.append(23)\n",
    "    if item == 'r':\n",
    "        importance.append(18)\n",
    "    if item == 'c':\n",
    "        importance.append(3)\n",
    "    if item == 'l':\n",
    "        importance.append(12)\n",
    "    if item == 'W':\n",
    "        importance.append(23+26)\n",
    "    if item == 'b':\n",
    "        importance.append(2)\n",
    "    if item == 'S':\n",
    "        importance.append(19+26)\n",
    "    if item == 'Q':\n",
    "        importance.append(17+26)\n",
    "    if item == 'H':\n",
    "        importance.append(8+26)\n",
    "    if item == 'L':\n",
    "        importance.append(12+26)\n",
    "    if item == 'P':\n",
    "        importance.append(16+26)\n",
    "    if item == 'N':\n",
    "        importance.append(14+26)\n",
    "    if item == 'm':\n",
    "        importance.append(13)\n",
    "    if item == 'p':\n",
    "        importance.append(16)\n",
    "    if item == 'z':\n",
    "        importance.append(26)\n",
    "    if item == 'C':\n",
    "        importance.append(29)\n",
    "    if item == 'q':\n",
    "        importance.append(17)\n"
   ]
  },
  {
   "cell_type": "code",
   "execution_count": 16,
   "metadata": {},
   "outputs": [
    {
     "data": {
      "text/plain": [
       "7785"
      ]
     },
     "execution_count": 16,
     "metadata": {},
     "output_type": "execute_result"
    }
   ],
   "source": [
    "sum(importance)"
   ]
  },
  {
   "cell_type": "markdown",
   "metadata": {},
   "source": [
    "---------\n",
    "--- Part Two ---<br>\n",
    "As you finish identifying the misplaced items, the Elves come to you with another issue.\n",
    "\n",
    "For safety, the Elves are divided into groups of three. Every Elf carries a badge that identifies their group. For efficiency, within each group of three Elves, the badge is the only item type carried by all three Elves. That is, if a group's badge is item type B, then all three Elves will have item type B somewhere in their rucksack, and at most two of the Elves will be carrying any other item type.\n",
    "\n",
    "The problem is that someone forgot to put this year's updated authenticity sticker on the badges. All of the badges need to be pulled out of the rucksacks so the new authenticity stickers can be attached.\n",
    "\n",
    "Additionally, nobody wrote down which item type corresponds to each group's badges. The only way to tell which item type is the right one is by finding the one item type that is common between all three Elves in each group.\n",
    "\n",
    "Every set of three lines in your list corresponds to a single group, but each group can have a different badge item type.\n",
    "\n",
    "Priorities for these items must still be found to organize the sticker attachment efforts: here, they are 18 (r) for the first group and 52 (Z) for the second group. The sum of these is 70.\n",
    "\n",
    "Find the item type that corresponds to the badges of each three-Elf group. What is the sum of the priorities of those item types?\n",
    "\n"
   ]
  },
  {
   "cell_type": "code",
   "execution_count": 17,
   "metadata": {},
   "outputs": [],
   "source": [
    "def divide_groups(lst, n):\n",
    "     \n",
    "    # looping till length l\n",
    "    for i in range(0, len(lst), n):\n",
    "        yield lst[i:i + n]\n",
    "\n",
    "elf_groups = list(divide_groups(backpacks, 3))\n",
    "groups_df = pd.DataFrame(elf_groups)"
   ]
  },
  {
   "cell_type": "code",
   "execution_count": 18,
   "metadata": {},
   "outputs": [
    {
     "data": {
      "text/html": [
       "<div>\n",
       "<style scoped>\n",
       "    .dataframe tbody tr th:only-of-type {\n",
       "        vertical-align: middle;\n",
       "    }\n",
       "\n",
       "    .dataframe tbody tr th {\n",
       "        vertical-align: top;\n",
       "    }\n",
       "\n",
       "    .dataframe thead th {\n",
       "        text-align: right;\n",
       "    }\n",
       "</style>\n",
       "<table border=\"1\" class=\"dataframe\">\n",
       "  <thead>\n",
       "    <tr style=\"text-align: right;\">\n",
       "      <th></th>\n",
       "      <th>elf1</th>\n",
       "      <th>elf2</th>\n",
       "      <th>elf3</th>\n",
       "    </tr>\n",
       "  </thead>\n",
       "  <tbody>\n",
       "    <tr>\n",
       "      <th>0</th>\n",
       "      <td>vGFhvGvvSdfwqhqvmCPnlFPnCNPcCFcWcr</td>\n",
       "      <td>ZbWZDMgsTHsrNNLJcJnsJl</td>\n",
       "      <td>HbBWQgZVZZBzbgZphwjqpmmVfdGmjG</td>\n",
       "    </tr>\n",
       "    <tr>\n",
       "      <th>1</th>\n",
       "      <td>vvCJLGnthChvtrvCCnRbTRqRPRBtbTRfPRRl</td>\n",
       "      <td>djZSgHNNwjqcdWlbcbfc</td>\n",
       "      <td>pFgMSfpMfzMDZFSgSjGJQQnCvMCVLnnJQLGC</td>\n",
       "    </tr>\n",
       "    <tr>\n",
       "      <th>2</th>\n",
       "      <td>gVhQWQpcWZVwwHVvFvnnnnDFdL</td>\n",
       "      <td>lzbPlztjltztzSjfGcPdTHLTHFCnnHCLndFGGd</td>\n",
       "      <td>jsNbzbczclttSlfbqlljRQMJRMMpJwRZhspZgJRM</td>\n",
       "    </tr>\n",
       "    <tr>\n",
       "      <th>3</th>\n",
       "      <td>hLJvfGcNDttSGvJtvSSJcqbqFBBWbjQqDrqbjDDjjb</td>\n",
       "      <td>lTswlzZdssgFpdPwZpMQnCjngCCjWBQBWWQqng</td>\n",
       "      <td>PRZMpzPZTdVZTfJvFvLFRctJcf</td>\n",
       "    </tr>\n",
       "    <tr>\n",
       "      <th>4</th>\n",
       "      <td>JHbQtHVHHLLbTJmmZddgdgwhllMNhhhTgg</td>\n",
       "      <td>spqpNGDjDPMhCFChMj</td>\n",
       "      <td>DBSDDGnpSDsDWqWczcvSqWvsBtJJLLZrRVZLJRbBZNVrBHrV</td>\n",
       "    </tr>\n",
       "  </tbody>\n",
       "</table>\n",
       "</div>"
      ],
      "text/plain": [
       "                                         elf1  \\\n",
       "0          vGFhvGvvSdfwqhqvmCPnlFPnCNPcCFcWcr   \n",
       "1        vvCJLGnthChvtrvCCnRbTRqRPRBtbTRfPRRl   \n",
       "2                  gVhQWQpcWZVwwHVvFvnnnnDFdL   \n",
       "3  hLJvfGcNDttSGvJtvSSJcqbqFBBWbjQqDrqbjDDjjb   \n",
       "4          JHbQtHVHHLLbTJmmZddgdgwhllMNhhhTgg   \n",
       "\n",
       "                                     elf2  \\\n",
       "0                  ZbWZDMgsTHsrNNLJcJnsJl   \n",
       "1                    djZSgHNNwjqcdWlbcbfc   \n",
       "2  lzbPlztjltztzSjfGcPdTHLTHFCnnHCLndFGGd   \n",
       "3  lTswlzZdssgFpdPwZpMQnCjngCCjWBQBWWQqng   \n",
       "4                      spqpNGDjDPMhCFChMj   \n",
       "\n",
       "                                               elf3  \n",
       "0                    HbBWQgZVZZBzbgZphwjqpmmVfdGmjG  \n",
       "1              pFgMSfpMfzMDZFSgSjGJQQnCvMCVLnnJQLGC  \n",
       "2          jsNbzbczclttSlfbqlljRQMJRMMpJwRZhspZgJRM  \n",
       "3                        PRZMpzPZTdVZTfJvFvLFRctJcf  \n",
       "4  DBSDDGnpSDsDWqWczcvSqWvsBtJJLLZrRVZLJRbBZNVrBHrV  "
      ]
     },
     "execution_count": 18,
     "metadata": {},
     "output_type": "execute_result"
    }
   ],
   "source": [
    "groups_df.columns = ['elf1', 'elf2', 'elf3']\n",
    "groups_df.head()"
   ]
  },
  {
   "cell_type": "code",
   "execution_count": 19,
   "metadata": {},
   "outputs": [],
   "source": [
    "group_items = []\n",
    "\n",
    "for i, elf1 in enumerate(groups_df.elf1):\n",
    "    elf_1_items = set(char_split(elf1))\n",
    "    elf_2_items = set(char_split(groups_df.iloc[i].elf2))\n",
    "    elf_3_items = set(char_split(groups_df.iloc[i].elf3))\n",
    "    for item1 in elf_1_items:\n",
    "        for item2 in elf_2_items:\n",
    "            for item3 in elf_3_items:\n",
    "                if item1 == item2 and item1 == item3:\n",
    "                    group_items.append(item1)\n"
   ]
  },
  {
   "cell_type": "code",
   "execution_count": 20,
   "metadata": {},
   "outputs": [
    {
     "data": {
      "text/plain": [
       "100"
      ]
     },
     "execution_count": 20,
     "metadata": {},
     "output_type": "execute_result"
    }
   ],
   "source": [
    "len(group_items)"
   ]
  },
  {
   "cell_type": "code",
   "execution_count": 21,
   "metadata": {},
   "outputs": [
    {
     "data": {
      "text/plain": [
       "100"
      ]
     },
     "execution_count": 21,
     "metadata": {},
     "output_type": "execute_result"
    }
   ],
   "source": [
    "len(elf_groups)"
   ]
  },
  {
   "cell_type": "code",
   "execution_count": 22,
   "metadata": {},
   "outputs": [
    {
     "data": {
      "text/plain": [
       "array(['W', 'f', 'c', 'F', 'N', 'd', 'B', 'G', 'b', 'V', 'n', 'v', 'P',\n",
       "       'w', 'Z', 'D', 'H', 'M', 'm', 'T', 'r', 'L', 'z', 's', 'p', 'j',\n",
       "       'l', 'h', 'S', 'Q', 'g', 't', 'C', 'q', 'R', 'J'], dtype=object)"
      ]
     },
     "execution_count": 22,
     "metadata": {},
     "output_type": "execute_result"
    }
   ],
   "source": [
    "pd.Series(group_items).unique()"
   ]
  },
  {
   "cell_type": "code",
   "execution_count": 23,
   "metadata": {},
   "outputs": [],
   "source": [
    "# 'W', 'f', 'c', 'F', 'N', 'd', 'B', 'G', 'b', 'V', 'n', 'v', 'P',\n",
    "#        'w', 'Z', 'D', 'H', 'M', 'm', 'T', 'r', 'L', 'z', 's', 'p', 'j',\n",
    "#        'l', 'h', 'S', 'Q', 'g', 't', 'C', 'q', 'R', 'J'"
   ]
  },
  {
   "cell_type": "code",
   "execution_count": 24,
   "metadata": {},
   "outputs": [],
   "source": [
    "# reusing code for time sake\n",
    "\n",
    "importance = []\n",
    "for item in group_items:\n",
    "    if item == 'F':\n",
    "        importance.append(6+26)\n",
    "    elif item == 's':\n",
    "        importance.append(19)\n",
    "    elif item == 'V':\n",
    "        importance.append(22 + 26)\n",
    "    elif item == 't':\n",
    "        importance.append(20)\n",
    "    elif item == 'd':\n",
    "        importance.append(4)\n",
    "    elif item == 'M':\n",
    "        importance.append(13+26)\n",
    "    elif item == 'G':\n",
    "        importance.append(7+26)\n",
    "    elif item == 'D':\n",
    "        importance.append(4+26)\n",
    "    elif item == 'g':\n",
    "        importance.append(7)\n",
    "    elif item == 'R':\n",
    "        importance.append(18+26)\n",
    "    elif item == 'T':\n",
    "        importance.append(20+26)\n",
    "    elif item == 'j':\n",
    "        importance.append(10)\n",
    "    elif item == 'B':\n",
    "        importance.append(2+26)\n",
    "    elif item == 'f':\n",
    "        importance.append(6)\n",
    "    elif item == 'Z':\n",
    "        importance.append(26+26)\n",
    "    elif item == 'v':\n",
    "        importance.append(22)\n",
    "    elif item == 'n':\n",
    "        importance.append(14)\n",
    "    elif item == 'J':\n",
    "        importance.append(10+26)\n",
    "    elif item == 'h':\n",
    "        importance.append(8)\n",
    "    elif item == 'w':\n",
    "        importance.append(23)\n",
    "    elif item == 'r':\n",
    "        importance.append(18)\n",
    "    elif item == 'c':\n",
    "        importance.append(3)\n",
    "    elif item == 'l':\n",
    "        importance.append(12)\n",
    "    elif item == 'W':\n",
    "        importance.append(23+26)\n",
    "    elif item == 'b':\n",
    "        importance.append(2)\n",
    "    elif item == 'S':\n",
    "        importance.append(19+26)\n",
    "    elif item == 'Q':\n",
    "        importance.append(17+26)\n",
    "    elif item == 'H':\n",
    "        importance.append(8+26)\n",
    "    elif item == 'L':\n",
    "        importance.append(12+26)\n",
    "    elif item == 'P':\n",
    "        importance.append(16+26)\n",
    "    elif item == 'N':\n",
    "        importance.append(14+26)\n",
    "    elif item == 'm':\n",
    "        importance.append(13)\n",
    "    elif item == 'p':\n",
    "        importance.append(16)\n",
    "    elif item == 'z':\n",
    "        importance.append(26)\n",
    "    elif item == 'C':\n",
    "        importance.append(29)\n",
    "    elif item == 'q':\n",
    "        importance.append(17)\n",
    "    else:\n",
    "        print(f\"Item not Found, please add {item} to list\")"
   ]
  },
  {
   "cell_type": "code",
   "execution_count": 25,
   "metadata": {},
   "outputs": [
    {
     "data": {
      "text/plain": [
       "2633"
      ]
     },
     "execution_count": 25,
     "metadata": {},
     "output_type": "execute_result"
    }
   ],
   "source": [
    "sum(importance)"
   ]
  }
 ],
 "metadata": {
  "kernelspec": {
   "display_name": "Python 3.9.12 ('base')",
   "language": "python",
   "name": "python3"
  },
  "language_info": {
   "codemirror_mode": {
    "name": "ipython",
    "version": 3
   },
   "file_extension": ".py",
   "mimetype": "text/x-python",
   "name": "python",
   "nbconvert_exporter": "python",
   "pygments_lexer": "ipython3",
   "version": "3.9.12"
  },
  "orig_nbformat": 4,
  "vscode": {
   "interpreter": {
    "hash": "3067ead486e059ec00ffe7555bdb889e6e264a24dc711bf108106cc7baee8d5d"
   }
  }
 },
 "nbformat": 4,
 "nbformat_minor": 2
}
